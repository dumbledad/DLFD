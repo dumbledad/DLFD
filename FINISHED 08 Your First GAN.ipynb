{
 "cells": [
  {
   "cell_type": "markdown",
   "metadata": {},
   "source": [
    "# Your First GAN\n",
    "\n",
    "We will be using only a lightly modified version of a fantastic notebook I found online by Wouter Bulten, found here: https://github.com/wouterbulten/deeplearning-resources/tree/master/notebooks. He also has a great blog post on his personal site that goes into deeper detail than we will cover in our workshop, but be sure to check it out too! https://www.wouterbulten.nl/blog/tech/getting-started-with-generative-adversarial-networks/\n",
    "\n",
    "This notebook is very resource intensive. I will be using my Deep Learning Virtual Machine instance from my Azure account, running on a Titan GPU powered VM. We will train for around half an hour, which will give us a good visual validation on what the Generator is actually doing.\n",
    "\n",
    "We start by setting up keras and importing the layers we'll be using for Generative Adversarial Network."
   ]
  },
  {
   "cell_type": "code",
   "execution_count": 2,
   "metadata": {},
   "outputs": [
    {
     "name": "stderr",
     "output_type": "stream",
     "text": [
      "Using TensorFlow backend.\n"
     ]
    },
    {
     "name": "stdout",
     "output_type": "stream",
     "text": [
      "WARNING:tensorflow:From C:\\Users\\admin\\Envs\\deepvision\\lib\\site-packages\\tensorflow\\contrib\\learn\\python\\learn\\datasets\\base.py:198: retry (from tensorflow.contrib.learn.python.learn.datasets.base) is deprecated and will be removed in a future version.\n",
      "Instructions for updating:\n",
      "Use the retry module or similar alternatives.\n"
     ]
    }
   ],
   "source": [
    "from keras.models import Sequential\n",
    "from keras.layers import Dense, Activation, Flatten, Reshape\n",
    "from keras.layers import Conv2D, UpSampling2D\n",
    "from keras.layers import LeakyReLU, Dropout\n",
    "from keras.layers import BatchNormalization\n",
    "from keras.optimizers import Adam, SGD, RMSprop\n",
    "\n",
    "import numpy as np\n",
    "import matplotlib.pyplot as plt\n",
    "from IPython.display import clear_output, Image\n",
    "\n",
    "from tensorflow.examples.tutorials.mnist import input_data"
   ]
  },
  {
   "cell_type": "code",
   "execution_count": 3,
   "metadata": {},
   "outputs": [],
   "source": [
    "def discriminator():\n",
    "    net = Sequential()\n",
    "    input_shape = (28, 28, 1)\n",
    "    dropout_prob = 0.4\n",
    "    net.add( Conv2D(64, 5, strides=2, input_shape=input_shape, padding='same'))\n",
    "    net.add(LeakyReLU())\n",
    "    \n",
    "    net.add(Conv2D(128, 5, strides=2, padding='same'))\n",
    "    net.add(LeakyReLU())\n",
    "    net.add(Dropout(dropout_prob))\n",
    "    \n",
    "    net.add(Conv2D(256, 5, strides=2, padding='same'))\n",
    "    net.add(LeakyReLU())\n",
    "    net.add(Dropout(dropout_prob))\n",
    "    \n",
    "    net.add(Conv2D(512, 5, strides=1, padding='same'))\n",
    "    net.add(LeakyReLU())\n",
    "    net.add(Dropout(dropout_prob))\n",
    "    \n",
    "    net.add(Flatten())\n",
    "    net.add(Dense(1))\n",
    "    net.add(Activation('sigmoid'))\n",
    "    \n",
    "    return net"
   ]
  },
  {
   "cell_type": "code",
   "execution_count": 4,
   "metadata": {},
   "outputs": [
    {
     "name": "stdout",
     "output_type": "stream",
     "text": [
      "_________________________________________________________________\n",
      "Layer (type)                 Output Shape              Param #   \n",
      "=================================================================\n",
      "conv2d_1 (Conv2D)            (None, 14, 14, 64)        1664      \n",
      "_________________________________________________________________\n",
      "leaky_re_lu_1 (LeakyReLU)    (None, 14, 14, 64)        0         \n",
      "_________________________________________________________________\n",
      "conv2d_2 (Conv2D)            (None, 7, 7, 128)         204928    \n",
      "_________________________________________________________________\n",
      "leaky_re_lu_2 (LeakyReLU)    (None, 7, 7, 128)         0         \n",
      "_________________________________________________________________\n",
      "dropout_1 (Dropout)          (None, 7, 7, 128)         0         \n",
      "_________________________________________________________________\n",
      "conv2d_3 (Conv2D)            (None, 4, 4, 256)         819456    \n",
      "_________________________________________________________________\n",
      "leaky_re_lu_3 (LeakyReLU)    (None, 4, 4, 256)         0         \n",
      "_________________________________________________________________\n",
      "dropout_2 (Dropout)          (None, 4, 4, 256)         0         \n",
      "_________________________________________________________________\n",
      "conv2d_4 (Conv2D)            (None, 4, 4, 512)         3277312   \n",
      "_________________________________________________________________\n",
      "leaky_re_lu_4 (LeakyReLU)    (None, 4, 4, 512)         0         \n",
      "_________________________________________________________________\n",
      "dropout_3 (Dropout)          (None, 4, 4, 512)         0         \n",
      "_________________________________________________________________\n",
      "flatten_1 (Flatten)          (None, 8192)              0         \n",
      "_________________________________________________________________\n",
      "dense_1 (Dense)              (None, 1)                 8193      \n",
      "_________________________________________________________________\n",
      "activation_1 (Activation)    (None, 1)                 0         \n",
      "=================================================================\n",
      "Total params: 4,311,553\n",
      "Trainable params: 4,311,553\n",
      "Non-trainable params: 0\n",
      "_________________________________________________________________\n"
     ]
    }
   ],
   "source": [
    "net_discriminator = discriminator()\n",
    "net_discriminator.summary()"
   ]
  },
  {
   "cell_type": "code",
   "execution_count": 5,
   "metadata": {},
   "outputs": [],
   "source": [
    "def generator():\n",
    "    \n",
    "    net = Sequential()\n",
    "    dropout_prob = 0.4\n",
    "    \n",
    "    net.add(Dense(7*7*256, input_dim=100))\n",
    "    net.add(BatchNormalization(momentum=0.9))\n",
    "    net.add(LeakyReLU())\n",
    "    net.add(Reshape((7,7,256)))\n",
    "    net.add(Dropout(dropout_prob))\n",
    "    \n",
    "    net.add(UpSampling2D())\n",
    "    net.add(Conv2D(128, 5, padding='same'))\n",
    "    net.add(BatchNormalization(momentum=0.9))\n",
    "    net.add(LeakyReLU())\n",
    "    \n",
    "    net.add(UpSampling2D())\n",
    "    net.add(Conv2D(64, 5, padding='same'))\n",
    "    net.add(BatchNormalization(momentum=0.9))\n",
    "    net.add(LeakyReLU())\n",
    "    \n",
    "    net.add(Conv2D(32, 5, padding='same'))\n",
    "    net.add(BatchNormalization(momentum=0.9))\n",
    "    net.add(LeakyReLU())\n",
    "    \n",
    "    net.add(Conv2D(1, 5, padding='same'))\n",
    "    net.add(Activation('sigmoid'))\n",
    "    \n",
    "    return net\n",
    "    "
   ]
  },
  {
   "cell_type": "code",
   "execution_count": 6,
   "metadata": {},
   "outputs": [
    {
     "name": "stdout",
     "output_type": "stream",
     "text": [
      "_________________________________________________________________\n",
      "Layer (type)                 Output Shape              Param #   \n",
      "=================================================================\n",
      "dense_2 (Dense)              (None, 12544)             1266944   \n",
      "_________________________________________________________________\n",
      "batch_normalization_1 (Batch (None, 12544)             50176     \n",
      "_________________________________________________________________\n",
      "leaky_re_lu_5 (LeakyReLU)    (None, 12544)             0         \n",
      "_________________________________________________________________\n",
      "reshape_1 (Reshape)          (None, 7, 7, 256)         0         \n",
      "_________________________________________________________________\n",
      "dropout_4 (Dropout)          (None, 7, 7, 256)         0         \n",
      "_________________________________________________________________\n",
      "up_sampling2d_1 (UpSampling2 (None, 14, 14, 256)       0         \n",
      "_________________________________________________________________\n",
      "conv2d_5 (Conv2D)            (None, 14, 14, 128)       819328    \n",
      "_________________________________________________________________\n",
      "batch_normalization_2 (Batch (None, 14, 14, 128)       512       \n",
      "_________________________________________________________________\n",
      "leaky_re_lu_6 (LeakyReLU)    (None, 14, 14, 128)       0         \n",
      "_________________________________________________________________\n",
      "up_sampling2d_2 (UpSampling2 (None, 28, 28, 128)       0         \n",
      "_________________________________________________________________\n",
      "conv2d_6 (Conv2D)            (None, 28, 28, 64)        204864    \n",
      "_________________________________________________________________\n",
      "batch_normalization_3 (Batch (None, 28, 28, 64)        256       \n",
      "_________________________________________________________________\n",
      "leaky_re_lu_7 (LeakyReLU)    (None, 28, 28, 64)        0         \n",
      "_________________________________________________________________\n",
      "conv2d_7 (Conv2D)            (None, 28, 28, 32)        51232     \n",
      "_________________________________________________________________\n",
      "batch_normalization_4 (Batch (None, 28, 28, 32)        128       \n",
      "_________________________________________________________________\n",
      "leaky_re_lu_8 (LeakyReLU)    (None, 28, 28, 32)        0         \n",
      "_________________________________________________________________\n",
      "conv2d_8 (Conv2D)            (None, 28, 28, 1)         801       \n",
      "_________________________________________________________________\n",
      "activation_2 (Activation)    (None, 28, 28, 1)         0         \n",
      "=================================================================\n",
      "Total params: 2,394,241\n",
      "Trainable params: 2,368,705\n",
      "Non-trainable params: 25,536\n",
      "_________________________________________________________________\n"
     ]
    }
   ],
   "source": [
    "net_generator = generator()\n",
    "net_generator.summary()"
   ]
  },
  {
   "cell_type": "code",
   "execution_count": 7,
   "metadata": {},
   "outputs": [
    {
     "name": "stdout",
     "output_type": "stream",
     "text": [
      "_________________________________________________________________\n",
      "Layer (type)                 Output Shape              Param #   \n",
      "=================================================================\n",
      "sequential_1 (Sequential)    (None, 1)                 4311553   \n",
      "=================================================================\n",
      "Total params: 4,311,553\n",
      "Trainable params: 4,311,553\n",
      "Non-trainable params: 0\n",
      "_________________________________________________________________\n"
     ]
    }
   ],
   "source": [
    "optim_discriminator = RMSprop(lr=0.0008, clipvalue=1.0, decay=1e-10)\n",
    "model_discriminator = Sequential()\n",
    "model_discriminator.add(net_discriminator)\n",
    "model_discriminator.compile(loss='binary_crossentropy', optimizer=optim_discriminator, metrics=['accuracy'])\n",
    "model_discriminator.summary()"
   ]
  },
  {
   "cell_type": "code",
   "execution_count": 8,
   "metadata": {},
   "outputs": [
    {
     "name": "stdout",
     "output_type": "stream",
     "text": [
      "_________________________________________________________________\n",
      "Layer (type)                 Output Shape              Param #   \n",
      "=================================================================\n",
      "sequential_2 (Sequential)    (None, 28, 28, 1)         2394241   \n",
      "_________________________________________________________________\n",
      "sequential_1 (Sequential)    (None, 1)                 4311553   \n",
      "=================================================================\n",
      "Total params: 6,705,794\n",
      "Trainable params: 2,368,705\n",
      "Non-trainable params: 4,337,089\n",
      "_________________________________________________________________\n"
     ]
    }
   ],
   "source": [
    "optim_adversarial = Adam(lr=0.0004, clipvalue=1.0, decay=1e-10)\n",
    "model_adversarial = Sequential()\n",
    "model_adversarial.add(net_generator)\n",
    "\n",
    "for layer in net_discriminator.layers:\n",
    "    layer.trainable = False\n",
    "\n",
    "model_adversarial.add(net_discriminator)\n",
    "model_adversarial.compile(loss='binary_crossentropy', optimizer=optim_adversarial, metrics=['accuracy'])\n",
    "model_adversarial.summary()\n",
    "    "
   ]
  },
  {
   "cell_type": "code",
   "execution_count": 9,
   "metadata": {},
   "outputs": [
    {
     "name": "stdout",
     "output_type": "stream",
     "text": [
      "WARNING:tensorflow:From <ipython-input-9-25e2bcf00b7a>:1: read_data_sets (from tensorflow.contrib.learn.python.learn.datasets.mnist) is deprecated and will be removed in a future version.\n",
      "Instructions for updating:\n",
      "Please use alternatives such as official/mnist/dataset.py from tensorflow/models.\n",
      "WARNING:tensorflow:From C:\\Users\\admin\\Envs\\deepvision\\lib\\site-packages\\tensorflow\\contrib\\learn\\python\\learn\\datasets\\mnist.py:260: maybe_download (from tensorflow.contrib.learn.python.learn.datasets.base) is deprecated and will be removed in a future version.\n",
      "Instructions for updating:\n",
      "Please write your own downloading logic.\n",
      "WARNING:tensorflow:From C:\\Users\\admin\\Envs\\deepvision\\lib\\site-packages\\tensorflow\\contrib\\learn\\python\\learn\\datasets\\base.py:219: retry.<locals>.wrap.<locals>.wrapped_fn (from tensorflow.contrib.learn.python.learn.datasets.base) is deprecated and will be removed in a future version.\n",
      "Instructions for updating:\n",
      "Please use urllib or similar directly.\n",
      "Successfully downloaded train-images-idx3-ubyte.gz 9912422 bytes.\n",
      "WARNING:tensorflow:From C:\\Users\\admin\\Envs\\deepvision\\lib\\site-packages\\tensorflow\\contrib\\learn\\python\\learn\\datasets\\mnist.py:262: extract_images (from tensorflow.contrib.learn.python.learn.datasets.mnist) is deprecated and will be removed in a future version.\n",
      "Instructions for updating:\n",
      "Please use tf.data to implement this functionality.\n",
      "Extracting mnist\\train-images-idx3-ubyte.gz\n",
      "Successfully downloaded train-labels-idx1-ubyte.gz 28881 bytes.\n",
      "WARNING:tensorflow:From C:\\Users\\admin\\Envs\\deepvision\\lib\\site-packages\\tensorflow\\contrib\\learn\\python\\learn\\datasets\\mnist.py:267: extract_labels (from tensorflow.contrib.learn.python.learn.datasets.mnist) is deprecated and will be removed in a future version.\n",
      "Instructions for updating:\n",
      "Please use tf.data to implement this functionality.\n",
      "Extracting mnist\\train-labels-idx1-ubyte.gz\n",
      "WARNING:tensorflow:From C:\\Users\\admin\\Envs\\deepvision\\lib\\site-packages\\tensorflow\\contrib\\learn\\python\\learn\\datasets\\mnist.py:110: dense_to_one_hot (from tensorflow.contrib.learn.python.learn.datasets.mnist) is deprecated and will be removed in a future version.\n",
      "Instructions for updating:\n",
      "Please use tf.one_hot on tensors.\n",
      "Successfully downloaded t10k-images-idx3-ubyte.gz 1648877 bytes.\n",
      "Extracting mnist\\t10k-images-idx3-ubyte.gz\n",
      "Successfully downloaded t10k-labels-idx1-ubyte.gz 4542 bytes.\n",
      "Extracting mnist\\t10k-labels-idx1-ubyte.gz\n",
      "WARNING:tensorflow:From C:\\Users\\admin\\Envs\\deepvision\\lib\\site-packages\\tensorflow\\contrib\\learn\\python\\learn\\datasets\\mnist.py:290: DataSet.__init__ (from tensorflow.contrib.learn.python.learn.datasets.mnist) is deprecated and will be removed in a future version.\n",
      "Instructions for updating:\n",
      "Please use alternatives such as official/mnist/dataset.py from tensorflow/models.\n"
     ]
    }
   ],
   "source": [
    "x_train = input_data.read_data_sets('mnist', one_hot=True).train.images\n",
    "x_train = x_train.reshape(-1, 28,  28, 1).astype(np.float32)\n"
   ]
  },
  {
   "cell_type": "code",
   "execution_count": 11,
   "metadata": {},
   "outputs": [
    {
     "data": {
      "text/plain": [
       "(55000, 28, 28, 1)"
      ]
     },
     "execution_count": 11,
     "metadata": {},
     "output_type": "execute_result"
    }
   ],
   "source": [
    "x_train.shape"
   ]
  },
  {
   "cell_type": "code",
   "execution_count": 12,
   "metadata": {
    "scrolled": false
   },
   "outputs": [
    {
     "name": "stderr",
     "output_type": "stream",
     "text": [
      "C:\\Users\\admin\\Envs\\deepvision\\lib\\site-packages\\keras\\engine\\training.py:973: UserWarning: Discrepancy between trainable weights and collected trainable weights, did you set `model.trainable` without calling `model.compile` after ?\n",
      "  'Discrepancy between trainable weights and collected trainable'\n"
     ]
    },
    {
     "name": "stdout",
     "output_type": "stream",
     "text": [
      "WARNING:tensorflow:Variable *= will be deprecated. Use variable.assign_mul if you want assignment to the variable value or 'x = x * y' if you want a new python Tensor object.\n",
      "0: [Dis. loss: 0.6938, acc: 0.5039] [Gen. loss: 2.6236, acc: 0.0000]\n",
      "50: [Dis. loss: 7.9712, acc: 0.5000] [Gen. loss: 0.0000, acc: 1.0000]\n",
      "100: [Dis. loss: 7.9712, acc: 0.5000] [Gen. loss: 0.0000, acc: 1.0000]\n",
      "150: [Dis. loss: 0.7526, acc: 0.5449] [Gen. loss: 1.3987, acc: 0.0352]\n",
      "200: [Dis. loss: 0.5031, acc: 0.7930] [Gen. loss: 1.1550, acc: 0.1953]\n",
      "250: [Dis. loss: 0.4175, acc: 0.8281] [Gen. loss: 1.3228, acc: 0.1875]\n",
      "300: [Dis. loss: 0.2768, acc: 0.9180] [Gen. loss: 2.1077, acc: 0.0391]\n",
      "350: [Dis. loss: 0.3272, acc: 0.8848] [Gen. loss: 1.8549, acc: 0.0664]\n",
      "400: [Dis. loss: 0.3961, acc: 0.8281] [Gen. loss: 1.5457, acc: 0.1875]\n",
      "450: [Dis. loss: 0.5358, acc: 0.7227] [Gen. loss: 1.7701, acc: 0.0703]\n",
      "500: [Dis. loss: 0.4802, acc: 0.7559] [Gen. loss: 0.9739, acc: 0.4570]\n",
      "550: [Dis. loss: 0.4564, acc: 0.7949] [Gen. loss: 1.2879, acc: 0.2070]\n",
      "600: [Dis. loss: 0.4653, acc: 0.7871] [Gen. loss: 1.0820, acc: 0.3555]\n",
      "650: [Dis. loss: 0.3912, acc: 0.8340] [Gen. loss: 1.1770, acc: 0.3164]\n",
      "700: [Dis. loss: 0.5228, acc: 0.7227] [Gen. loss: 1.3944, acc: 0.1602]\n",
      "750: [Dis. loss: 0.4527, acc: 0.7773] [Gen. loss: 1.6857, acc: 0.1250]\n",
      "800: [Dis. loss: 0.5235, acc: 0.7383] [Gen. loss: 1.7046, acc: 0.0898]\n",
      "850: [Dis. loss: 0.5123, acc: 0.7422] [Gen. loss: 1.5754, acc: 0.1250]\n",
      "900: [Dis. loss: 0.4970, acc: 0.7637] [Gen. loss: 2.0302, acc: 0.0898]\n",
      "950: [Dis. loss: 0.5808, acc: 0.7012] [Gen. loss: 1.0012, acc: 0.4180]\n",
      "1000: [Dis. loss: 0.4664, acc: 0.7715] [Gen. loss: 1.2225, acc: 0.2812]\n",
      "1050: [Dis. loss: 0.5530, acc: 0.7227] [Gen. loss: 1.1478, acc: 0.2852]\n",
      "1100: [Dis. loss: 0.5136, acc: 0.7559] [Gen. loss: 0.9187, acc: 0.4492]\n",
      "1150: [Dis. loss: 0.5164, acc: 0.7344] [Gen. loss: 1.2118, acc: 0.3281]\n",
      "1200: [Dis. loss: 0.5401, acc: 0.7480] [Gen. loss: 1.2772, acc: 0.3398]\n",
      "1250: [Dis. loss: 0.4721, acc: 0.7676] [Gen. loss: 1.1356, acc: 0.2812]\n",
      "1300: [Dis. loss: 0.4187, acc: 0.7969] [Gen. loss: 1.3760, acc: 0.2109]\n",
      "1350: [Dis. loss: 0.4783, acc: 0.7930] [Gen. loss: 1.5830, acc: 0.2031]\n",
      "1400: [Dis. loss: 0.5363, acc: 0.7344] [Gen. loss: 1.7378, acc: 0.1055]\n",
      "1450: [Dis. loss: 0.5277, acc: 0.7285] [Gen. loss: 1.0819, acc: 0.3281]\n",
      "1500: [Dis. loss: 0.4266, acc: 0.8223] [Gen. loss: 1.8044, acc: 0.1133]\n",
      "1550: [Dis. loss: 0.5673, acc: 0.7129] [Gen. loss: 1.6262, acc: 0.1523]\n",
      "1600: [Dis. loss: 0.4976, acc: 0.7676] [Gen. loss: 1.1454, acc: 0.3281]\n",
      "1650: [Dis. loss: 0.5886, acc: 0.6875] [Gen. loss: 1.3769, acc: 0.1797]\n",
      "1700: [Dis. loss: 0.5297, acc: 0.7422] [Gen. loss: 1.0606, acc: 0.3789]\n",
      "1750: [Dis. loss: 0.4581, acc: 0.7754] [Gen. loss: 1.8206, acc: 0.1133]\n",
      "1800: [Dis. loss: 0.4605, acc: 0.7695] [Gen. loss: 1.0268, acc: 0.3750]\n",
      "1850: [Dis. loss: 0.4734, acc: 0.7559] [Gen. loss: 1.1940, acc: 0.3242]\n",
      "1900: [Dis. loss: 0.5659, acc: 0.6992] [Gen. loss: 0.7518, acc: 0.5234]\n",
      "1950: [Dis. loss: 0.5479, acc: 0.7578] [Gen. loss: 1.4305, acc: 0.1719]\n",
      "2000: [Dis. loss: 0.5225, acc: 0.7305] [Gen. loss: 1.6446, acc: 0.1602]\n"
     ]
    }
   ],
   "source": [
    "batch_size = 256\n",
    "\n",
    "vis_noise = np.random.uniform(-1.0, 1.0, size=[16, 100])\n",
    "\n",
    "loss_adv = []\n",
    "loss_dis = []\n",
    "acc_adv = []\n",
    "acc_dis = []\n",
    "plot_iteration = []\n",
    "\n",
    "for i in range(2001):\n",
    "    \n",
    "    # Select a random set of training images from the mnist dataset\n",
    "    images_train = x_train[np.random.randint(0, x_train.shape[0], size=batch_size), :, :, :]\n",
    "    # Generate a random noise vector\n",
    "    noise = np.random.uniform(-1.0, 1.0, size=[batch_size, 100])\n",
    "    # Use the generator to create fake images from the noise vector\n",
    "    images_fake = net_generator.predict(noise)\n",
    "    \n",
    "    # Create a dataset with fake and real images\n",
    "    x = np.concatenate((images_train, images_fake))\n",
    "    y = np.ones([2*batch_size, 1])\n",
    "    y[batch_size:, :] = 0 \n",
    "\n",
    "    # Train discriminator for one batch\n",
    "    d_stats = model_discriminator.train_on_batch(x, y)\n",
    "    \n",
    "    # Train the generator\n",
    "    # The input of th adversarial model is a list of noise vectors. The generator is 'good' if the discriminator classifies\n",
    "    # all the generated images as real. Therefore, the desired output is a list of all ones.\n",
    "    y = np.ones([batch_size, 1])\n",
    "    noise = np.random.uniform(-1.0, 1.0, size=[batch_size, 100])\n",
    "    a_stats = model_adversarial.train_on_batch(noise, y)\n",
    "        \n",
    "    if i % 50 == 0:\n",
    "        print(\"{}: [Dis. loss: {:.4f}, acc: {:.4f}] [Gen. loss: {:.4f}, acc: {:.4f}]\".format(i, d_stats[0], d_stats[1], a_stats[0], a_stats[1]))\n",
    "\n",
    "    if i % 100 == 0:\n",
    "        # Visualize the performance of the generator by producing images from the test vector\n",
    "        images = net_generator.predict(vis_noise)\n",
    "        plt.figure(figsize=(10,10))\n",
    "        for im in range(images.shape[0]):\n",
    "            plt.subplot(4, 4, im+1)\n",
    "            image = images[im, :, :, :]\n",
    "            image = np.reshape(image, [28, 28])            \n",
    "            plt.imshow(image, cmap='gray')\n",
    "            plt.axis('off')\n",
    "        \n",
    "        plt.tight_layout()\n",
    "        plt.savefig(r'images/gan_output/{}.png'.format(i))\n",
    "        plt.close('all')"
   ]
  },
  {
   "cell_type": "code",
   "execution_count": 14,
   "metadata": {
    "scrolled": true
   },
   "outputs": [
    {
     "data": {
      "text/html": [
       "<img src=\"images/gan_output/learning2.gif\"/>"
      ],
      "text/plain": [
       "<IPython.core.display.Image object>"
      ]
     },
     "execution_count": 14,
     "metadata": {},
     "output_type": "execute_result"
    }
   ],
   "source": [
    "import imageio\n",
    "\n",
    "filenames=[r'images/gan_output/{}.png'.format(i*100) for i in range(21)]\n",
    "images2 = []\n",
    "for filename in filenames:\n",
    "    images2.append(imageio.imread(filename))\n",
    "\n",
    "images2.append(imageio.imread('images/gan_output/2000.png'))\n",
    "images2.append(imageio.imread('images/gan_output/2000.png'))\n",
    "images2.append(imageio.imread('images/gan_output/2000.png'))\n",
    "        \n",
    "imageio.mimsave(r'images/gan_output/learning2.gif', images2, duration=0.3)\n",
    "\n",
    "Image(url='images/gan_output/learning2.gif')"
   ]
  },
  {
   "cell_type": "code",
   "execution_count": 15,
   "metadata": {},
   "outputs": [
    {
     "data": {
      "image/png": "[encoded data removed]",
      "text/plain": [
       "<Figure size 1080x432 with 40 Axes>"
      ]
     },
     "metadata": {},
     "output_type": "display_data"
    }
   ],
   "source": [
    "plt.figure(figsize=(15,6))\n",
    "noise = np.random.uniform(-1.0, 1.0, size=[40, 100])\n",
    "images = net_generator.predict(noise)\n",
    "\n",
    "for i in range(40):\n",
    "    \n",
    "    image = images[i, :, :, :]\n",
    "    image = np.reshape(image, [28, 28])\n",
    "          \n",
    "    plt.subplot(4, 10, i+1)\n",
    "    plt.imshow(image, cmap='gray')\n",
    "    plt.axis('off')\n",
    "\n",
    "plt.tight_layout()\n",
    "plt.show()"
   ]
  }
 ],
 "metadata": {
  "kernelspec": {
   "display_name": "Python 3",
   "language": "python",
   "name": "python3"
  },
  "language_info": {
   "codemirror_mode": {
    "name": "ipython",
    "version": 3
   },
   "file_extension": ".py",
   "mimetype": "text/x-python",
   "name": "python",
   "nbconvert_exporter": "python",
   "pygments_lexer": "ipython3",
   "version": "3.6.5"
  }
 },
 "nbformat": 4,
 "nbformat_minor": 2
}
