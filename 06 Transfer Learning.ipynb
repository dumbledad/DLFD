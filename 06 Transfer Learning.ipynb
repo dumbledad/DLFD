{
 "cells": [
  {
   "cell_type": "markdown",
   "metadata": {},
   "source": [
    "# Preparing Azure Notebooks\n",
    "\n",
    "I found some challenges loading the full VGG16 model and weights into Azure Notebooks directly, so we're including some commands to make sure the Azure Notebooks machine is up to date, and then we'll load up VGG16 and it's weights seperately. "
   ]
  },
  {
   "cell_type": "code",
   "execution_count": 1,
   "metadata": {},
   "outputs": [
    {
     "name": "stdout",
     "output_type": "stream",
     "text": [
      "Requirement already up-to-date: pip in c:\\users\\admin\\envs\\deepvision\\lib\\site-packages (10.0.1)\n"
     ]
    }
   ],
   "source": [
    "# Let's make sure we are using the most recent version of PIP\n",
    "\n",
    "!python.exe -m pip install --upgrade pip"
   ]
  },
  {
   "cell_type": "code",
   "execution_count": 2,
   "metadata": {},
   "outputs": [
    {
     "name": "stdout",
     "output_type": "stream",
     "text": [
      "Requirement already satisfied: h5py==2.8.0rc1 in c:\\users\\admin\\envs\\deepvision\\lib\\site-packages (2.8.0rc1)\n",
      "Requirement already satisfied: numpy>=1.7 in c:\\users\\admin\\envs\\deepvision\\lib\\site-packages (from h5py==2.8.0rc1) (1.14.2)\n",
      "Requirement already satisfied: six in c:\\users\\admin\\envs\\deepvision\\lib\\site-packages (from h5py==2.8.0rc1) (1.11.0)\n"
     ]
    }
   ],
   "source": [
    "# Also, I was having some difficulty between the current version of h5py, keras and Tensorflow in this notebook,\n",
    "# so let's upgrade to the most recent release candidate of h5py ( there were challenges with float32() and float64()\n",
    "# in the current version...\n",
    "\n",
    "# NOTE: This notebook / cell is being written on 4/25/2018. In the future, a more up to date version may have resolved the\n",
    "# problem, so consider this specific version number timestamped for this period of time ~ May 2018\n",
    "\n",
    "!pip install h5py==2.8.0rc1"
   ]
  },
  {
   "cell_type": "code",
   "execution_count": 3,
   "metadata": {},
   "outputs": [
    {
     "name": "stderr",
     "output_type": "stream",
     "text": [
      "Using TensorFlow backend.\n"
     ]
    }
   ],
   "source": [
    "# Now let's bring in the keras libraries, including their copy of the VGG16 'engine framework'\n",
    "\n",
    "from keras.applications.vgg16 import VGG16\n",
    "from keras.applications.vgg16 import preprocess_input, decode_predictions"
   ]
  },
  {
   "cell_type": "code",
   "execution_count": 4,
   "metadata": {},
   "outputs": [],
   "source": [
    "# Now let's make a local copy of the VGG16 model, but without weights for now! We will load these seperately next...\n",
    "\n",
    "model = VGG16(weights=None, include_top=True)"
   ]
  },
  {
   "cell_type": "code",
   "execution_count": 5,
   "metadata": {},
   "outputs": [],
   "source": [
    "# Now let's download and the weights seperately. This is a HUGE file, so Azure Notebooks at times is crashing if \n",
    "# we attempt to create the model and 'download/load' the weights in the same line of code like this:\n",
    "# model = VGG16(weights='imagenet', include_top=True)\n",
    "# That's why we're doing this in two parts...\n",
    "\n",
    "from keras.utils.data_utils import get_file\n",
    "\n",
    "EXTERNAL_WEIGHT_PATH = 'https://github.com/fchollet/deep-learning-models/releases/download/v0.1/vgg16_weights_tf_dim_ordering_tf_kernels.h5'\n",
    "\n",
    "weights_path = get_file('vgg16_weights_tf_dim_ordering_tf_kernels.h5',\n",
    "                        EXTERNAL_WEIGHT_PATH,\n",
    "                        cache_subdir='models')\n"
   ]
  },
  {
   "cell_type": "code",
   "execution_count": 6,
   "metadata": {},
   "outputs": [],
   "source": [
    "model.load_weights(weights_path)"
   ]
  },
  {
   "cell_type": "markdown",
   "metadata": {},
   "source": [
    "## If you've gotten this far, you're good to go!\n",
    "\n",
    "start coding in the next cell..."
   ]
  },
  {
   "cell_type": "code",
   "execution_count": null,
   "metadata": {},
   "outputs": [],
   "source": []
  }
 ],
 "metadata": {
  "kernelspec": {
   "display_name": "Python 3",
   "language": "python",
   "name": "python3"
  },
  "language_info": {
   "codemirror_mode": {
    "name": "ipython",
    "version": 3
   },
   "file_extension": ".py",
   "mimetype": "text/x-python",
   "name": "python",
   "nbconvert_exporter": "python",
   "pygments_lexer": "ipython3",
   "version": "3.6.5"
  }
 },
 "nbformat": 4,
 "nbformat_minor": 2
}
