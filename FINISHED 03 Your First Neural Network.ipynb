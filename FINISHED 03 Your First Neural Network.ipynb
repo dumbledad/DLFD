{
 "cells": [
  {
   "cell_type": "code",
   "execution_count": 1,
   "metadata": {},
   "outputs": [
    {
     "name": "stdout",
     "output_type": "stream",
     "text": [
      "Requirement already satisfied: sklearn in c:\\local\\anaconda3\\envs\\deepvision\\lib\\site-packages\n",
      "Requirement already satisfied: scikit-learn in c:\\local\\anaconda3\\envs\\deepvision\\lib\\site-packages (from sklearn)\n"
     ]
    }
   ],
   "source": [
    "!pip install sklearn"
   ]
  },
  {
   "cell_type": "code",
   "execution_count": 2,
   "metadata": {},
   "outputs": [
    {
     "name": "stdout",
     "output_type": "stream",
     "text": [
      "total feature records: 150\n",
      "\n",
      "First five records:\n",
      " [[ 5.1  3.5  1.4  0.2]\n",
      " [ 4.9  3.   1.4  0.2]\n",
      " [ 4.7  3.2  1.3  0.2]\n",
      " [ 4.6  3.1  1.5  0.2]\n",
      " [ 5.   3.6  1.4  0.2]]\n"
     ]
    }
   ],
   "source": [
    "import numpy as np\n",
    "\n",
    "from sklearn import datasets\n",
    "iris = datasets.load_iris()\n",
    "\n",
    "features = iris.data\n",
    "labels = iris.target\n",
    "\n",
    "flower_names = [\"SETOSA\", \"VERSICOLOR\", \"VIRGINICA\"]\n",
    "\n",
    "print(\"total feature records:\", len(features))\n",
    "print(\"\\nFirst five records:\\n\", features[:5])"
   ]
  },
  {
   "cell_type": "code",
   "execution_count": 3,
   "metadata": {},
   "outputs": [
    {
     "name": "stdout",
     "output_type": "stream",
     "text": [
      "total labels: 150\n",
      "\n",
      "Label records:\n",
      " [0 0 0 0 0 0 0 0 0 0 0 0 0 0 0 0 0 0 0 0 0 0 0 0 0 0 0 0 0 0 0 0 0 0 0 0 0\n",
      " 0 0 0 0 0 0 0 0 0 0 0 0 0 1 1 1 1 1 1 1 1 1 1 1 1 1 1 1 1 1 1 1 1 1 1 1 1\n",
      " 1 1 1 1 1 1 1 1 1 1 1 1 1 1 1 1 1 1 1 1 1 1 1 1 1 1 2 2 2 2 2 2 2 2 2 2 2\n",
      " 2 2 2 2 2 2 2 2 2 2 2 2 2 2 2 2 2 2 2 2 2 2 2 2 2 2 2 2 2 2 2 2 2 2 2 2 2\n",
      " 2 2]\n"
     ]
    }
   ],
   "source": [
    "print(\"total labels:\", len(labels))\n",
    "print(\"\\nLabel records:\\n\", labels)"
   ]
  },
  {
   "cell_type": "code",
   "execution_count": 4,
   "metadata": {},
   "outputs": [],
   "source": [
    "import Helpers\n",
    "\n",
    "helper = Helpers.Iris\n"
   ]
  },
  {
   "cell_type": "code",
   "execution_count": 5,
   "metadata": {
    "scrolled": true
   },
   "outputs": [
    {
     "name": "stdout",
     "output_type": "stream",
     "text": [
      "total labels: 150\n",
      "\n",
      "Label records:\n",
      " [1 0 2 1 1 0 1 2 1 1 2 0 0 0 0 1 2 1 1 2 0 2 0 2 2 2 2 2 0 0 0 0 1 0 0 2 1\n",
      " 0 0 0 2 1 1 0 0 1 2 2 1 2 1 2 1 0 2 1 0 0 0 1 2 0 0 0 1 0 1 2 0 1 2 0 2 2\n",
      " 1 1 2 1 0 1 2 0 0 1 1 0 2 0 0 1 1 2 1 2 2 1 0 0 2 2 0 0 0 1 2 0 2 2 0 1 1\n",
      " 2 1 2 0 2 1 2 1 1 1 0 1 1 0 1 2 2 0 1 2 2 0 2 0 1 2 2 1 2 1 1 2 2 0 1 2 0\n",
      " 1 2]\n"
     ]
    }
   ],
   "source": [
    "\n",
    "features, labels = helper.shuffle_records(features, labels)\n",
    "\n",
    "# NOW LET'S LOOK AT THE LABELS AGAIN AND MAKE SURE THEY'RE SHUFFLED\n",
    "print(\"total labels:\", len(labels))\n",
    "print(\"\\nLabel records:\\n\", labels)"
   ]
  },
  {
   "cell_type": "code",
   "execution_count": 6,
   "metadata": {
    "scrolled": true
   },
   "outputs": [
    {
     "name": "stdout",
     "output_type": "stream",
     "text": [
      "The original first 5 labels\n",
      " [1 0 2 1 1]\n",
      "\n",
      "The first 5 one hot labels\n",
      " [[0 1 0]\n",
      " [1 0 0]\n",
      " [0 0 1]\n",
      " [0 1 0]\n",
      " [0 1 0]]\n"
     ]
    }
   ],
   "source": [
    "\n",
    "total_classes = 3\n",
    "\n",
    "one_hot_labels = helper.convert_to_one_hot(labels, total_classes)\n",
    "\n",
    "print(\"The original first 5 labels\\n\",labels[:5])\n",
    "print(\"\\nThe first 5 one hot labels\\n\", one_hot_labels[:5])"
   ]
  },
  {
   "cell_type": "code",
   "execution_count": 7,
   "metadata": {},
   "outputs": [
    {
     "data": {
      "text/plain": [
       "(150, 3)"
      ]
     },
     "execution_count": 7,
     "metadata": {},
     "output_type": "execute_result"
    }
   ],
   "source": [
    "one_hot_labels.shape"
   ]
  },
  {
   "cell_type": "code",
   "execution_count": 8,
   "metadata": {},
   "outputs": [
    {
     "name": "stderr",
     "output_type": "stream",
     "text": [
      "Using TensorFlow backend.\n"
     ]
    }
   ],
   "source": [
    "from keras.models import Sequential\n",
    "from keras.layers import Dense"
   ]
  },
  {
   "cell_type": "code",
   "execution_count": 9,
   "metadata": {},
   "outputs": [],
   "source": [
    "\n",
    "model = Sequential()\n",
    "model.add(Dense(8, input_dim=4, activation='relu'))\n",
    "model.add(Dense(3, activation='softmax'))\n",
    "\n",
    "model.compile(loss='categorical_crossentropy', optimizer='adam', metrics=['accuracy'])\n",
    "    \n",
    "    "
   ]
  },
  {
   "cell_type": "code",
   "execution_count": 10,
   "metadata": {},
   "outputs": [],
   "source": [
    "batch_size = 128\n",
    "\n",
    "def TrainingLoop(number_of_epochs, verbose):\n",
    "    model.fit(features, one_hot_labels, \\\n",
    "              batch_size=batch_size, \\\n",
    "              epochs=number_of_epochs, \\\n",
    "              verbose=verbose, \\\n",
    "              validation_split=.1 )\n",
    "    "
   ]
  },
  {
   "cell_type": "code",
   "execution_count": 11,
   "metadata": {},
   "outputs": [
    {
     "name": "stdout",
     "output_type": "stream",
     "text": [
      "Train on 135 samples, validate on 15 samples\n",
      "Epoch 1/1\n",
      "135/135 [==============================] - 1s 7ms/step - loss: 2.8470 - acc: 0.3556 - val_loss: 3.7485 - val_acc: 0.1333\n"
     ]
    }
   ],
   "source": [
    "TrainingLoop(1, 1)"
   ]
  },
  {
   "cell_type": "code",
   "execution_count": 12,
   "metadata": {},
   "outputs": [
    {
     "name": "stdout",
     "output_type": "stream",
     "text": [
      "Train on 135 samples, validate on 15 samples\n",
      "Epoch 1/1\n",
      "135/135 [==============================] - 0s 134us/step - loss: 0.7591 - acc: 0.6741 - val_loss: 0.8518 - val_acc: 0.6000\n"
     ]
    }
   ],
   "source": [
    "TrainingLoop(100,0)\n",
    "TrainingLoop(1, 1)"
   ]
  },
  {
   "cell_type": "code",
   "execution_count": 13,
   "metadata": {},
   "outputs": [
    {
     "name": "stdout",
     "output_type": "stream",
     "text": [
      "Train on 135 samples, validate on 15 samples\n",
      "Epoch 1/1\n",
      "135/135 [==============================] - 0s 126us/step - loss: 0.4702 - acc: 0.8444 - val_loss: 0.5579 - val_acc: 0.8667\n"
     ]
    }
   ],
   "source": [
    "TrainingLoop(100,0)\n",
    "TrainingLoop(1, 1)"
   ]
  },
  {
   "cell_type": "code",
   "execution_count": 14,
   "metadata": {},
   "outputs": [
    {
     "name": "stdout",
     "output_type": "stream",
     "text": [
      "Train on 135 samples, validate on 15 samples\n",
      "Epoch 1/1\n",
      "135/135 [==============================] - 0s 104us/step - loss: 0.3849 - acc: 0.9259 - val_loss: 0.4642 - val_acc: 0.9333\n"
     ]
    }
   ],
   "source": [
    "TrainingLoop(100,0)\n",
    "TrainingLoop(1, 1)"
   ]
  },
  {
   "cell_type": "code",
   "execution_count": 15,
   "metadata": {
    "scrolled": true
   },
   "outputs": [
    {
     "name": "stdout",
     "output_type": "stream",
     "text": [
      "Train on 135 samples, validate on 15 samples\n",
      "Epoch 1/1\n",
      "135/135 [==============================] - 0s 134us/step - loss: 0.3302 - acc: 0.9630 - val_loss: 0.4000 - val_acc: 1.0000\n"
     ]
    }
   ],
   "source": [
    "TrainingLoop(100,0)\n",
    "TrainingLoop(1, 1)"
   ]
  },
  {
   "cell_type": "code",
   "execution_count": 16,
   "metadata": {
    "scrolled": true
   },
   "outputs": [
    {
     "name": "stdout",
     "output_type": "stream",
     "text": [
      "Train on 135 samples, validate on 15 samples\n",
      "Epoch 1/1\n",
      "135/135 [==============================] - 0s 108us/step - loss: 0.2898 - acc: 0.9407 - val_loss: 0.3472 - val_acc: 1.0000\n"
     ]
    }
   ],
   "source": [
    "TrainingLoop(100,0)\n",
    "TrainingLoop(1, 1)"
   ]
  },
  {
   "cell_type": "code",
   "execution_count": 17,
   "metadata": {
    "scrolled": false
   },
   "outputs": [
    {
     "name": "stdout",
     "output_type": "stream",
     "text": [
      "Train on 135 samples, validate on 15 samples\n",
      "Epoch 1/1\n",
      "135/135 [==============================] - 0s 96us/step - loss: 0.1556 - acc: 0.9778 - val_loss: 0.1552 - val_acc: 1.0000\n"
     ]
    }
   ],
   "source": [
    "TrainingLoop(500,0)\n",
    "TrainingLoop(1, 1)"
   ]
  },
  {
   "cell_type": "code",
   "execution_count": 18,
   "metadata": {},
   "outputs": [
    {
     "data": {
      "text/plain": [
       "array([[ 6.1,  2.8,  4.7,  1.2],\n",
       "       [ 5.7,  3.8,  1.7,  0.3],\n",
       "       [ 7.7,  2.6,  6.9,  2.3]])"
      ]
     },
     "execution_count": 18,
     "metadata": {},
     "output_type": "execute_result"
    }
   ],
   "source": [
    "features[0:3]"
   ]
  },
  {
   "cell_type": "code",
   "execution_count": 19,
   "metadata": {
    "scrolled": true
   },
   "outputs": [
    {
     "data": {
      "text/plain": [
       "array([[0, 1, 0],\n",
       "       [1, 0, 0],\n",
       "       [0, 0, 1]])"
      ]
     },
     "execution_count": 19,
     "metadata": {},
     "output_type": "execute_result"
    }
   ],
   "source": [
    "one_hot_labels[0:3]"
   ]
  },
  {
   "cell_type": "code",
   "execution_count": 20,
   "metadata": {},
   "outputs": [
    {
     "name": "stdout",
     "output_type": "stream",
     "text": [
      "\r",
      "1/1 [==============================] - 0s 19ms/step\n"
     ]
    },
    {
     "data": {
      "text/plain": [
       "array([[ 0.00394014,  0.74388433,  0.25217557]], dtype=float32)"
      ]
     },
     "execution_count": 20,
     "metadata": {},
     "output_type": "execute_result"
    }
   ],
   "source": [
    "# WE CAN PULL THIS FROM OUR ORIGINAL DATA SET\n",
    "# THESE FEATURES : [[ 6.1,  2.8,  4.7,  1.2] ] \n",
    "# SHOULD RETURN :       1  ( which is VERSICOLOR )\n",
    "# AS ONE_HOT_ENCODED: [0 1 0]\n",
    "\n",
    "test_data = np.array( [ [ 6.1,  2.8,  4.7,  1.2] ] )\n",
    "\n",
    "result = model.predict( test_data, batch_size=1, verbose=1)\n",
    "result"
   ]
  },
  {
   "cell_type": "code",
   "execution_count": 21,
   "metadata": {},
   "outputs": [
    {
     "data": {
      "text/plain": [
       "'VERSICOLOR'"
      ]
     },
     "execution_count": 21,
     "metadata": {},
     "output_type": "execute_result"
    }
   ],
   "source": [
    "flower_name_index = np.argmax(result, axis=1)[0]\n",
    "\n",
    "flower_names[flower_name_index]"
   ]
  }
 ],
 "metadata": {
  "kernelspec": {
   "display_name": "Python 3",
   "language": "python",
   "name": "python3"
  },
  "language_info": {
   "codemirror_mode": {
    "name": "ipython",
    "version": 3
   },
   "file_extension": ".py",
   "mimetype": "text/x-python",
   "name": "python",
   "nbconvert_exporter": "python",
   "pygments_lexer": "ipython3",
   "version": "3.5.2"
  }
 },
 "nbformat": 4,
 "nbformat_minor": 2
}
