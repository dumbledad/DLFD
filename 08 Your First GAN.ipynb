{
 "cells": [
  {
   "cell_type": "markdown",
   "metadata": {},
   "source": [
    "# Your First GAN\n",
    "\n",
    "We will be using only a lightly modified version of a fantastic notebook I found online by Wouter Bulten, found here: https://github.com/wouterbulten/deeplearning-resources/tree/master/notebooks. He also has a great blog post on his personal site that goes into deeper detail than we will cover in our workshop, but be sure to check it out too! https://www.wouterbulten.nl/blog/tech/getting-started-with-generative-adversarial-networks/\n",
    "\n",
    "This notebook is very resource intensive. I will be using my Deep Learning Virtual Machine instance from my Azure account, running on a Titan GPU powered VM. We will train for around half an hour, which will give us a good visual validation on what the Generator is actually doing.\n",
    "\n",
    "We start by setting up keras and importing the layers we'll be using for Generative Adversarial Network."
   ]
  },
  {
   "cell_type": "code",
   "execution_count": null,
   "metadata": {},
   "outputs": [],
   "source": []
  }
 ],
 "metadata": {
  "kernelspec": {
   "display_name": "Python 3",
   "language": "python",
   "name": "python3"
  },
  "language_info": {
   "codemirror_mode": {
    "name": "ipython",
    "version": 3
   },
   "file_extension": ".py",
   "mimetype": "text/x-python",
   "name": "python",
   "nbconvert_exporter": "python",
   "pygments_lexer": "ipython3",
   "version": "3.6.5"
  }
 },
 "nbformat": 4,
 "nbformat_minor": 2
}
